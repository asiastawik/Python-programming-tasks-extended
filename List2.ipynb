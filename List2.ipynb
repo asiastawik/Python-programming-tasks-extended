{
 "cells": [
  {
   "cell_type": "code",
   "execution_count": 16,
   "id": "d8ebbdd1",
   "metadata": {},
   "outputs": [
    {
     "name": "stdout",
     "output_type": "stream",
     "text": [
      "Enter number:\n",
      "-1\n",
      "Please enter proper number! Number should be >0\n",
      "2\n",
      "Power is: 48.50293012833273\n"
     ]
    }
   ],
   "source": [
    "import math\n",
    "#1\n",
    "def power(N):\n",
    "    p = 5.6\n",
    "    int(N)\n",
    "    Pow = pow(N, p)\n",
    "    print(f'Power is: {Pow}')\n",
    "\n",
    "\n",
    "\n",
    "print(\"Enter number:\")\n",
    "N = input()\n",
    "N_number = N.isnumeric()\n",
    "while N_number is False:\n",
    "    print('Please enter proper number! Number should be >0')\n",
    "    N = input()\n",
    "    N_number = N.isnumeric()\n",
    "else:\n",
    "    N_float = float(N)\n",
    "    if N_float == 0:\n",
    "        print('Power: 1')\n",
    "    else:\n",
    "        power(N_float)\n"
   ]
  },
  {
   "cell_type": "code",
   "execution_count": 21,
   "id": "5a193551",
   "metadata": {},
   "outputs": [
    {
     "name": "stdout",
     "output_type": "stream",
     "text": [
      "[110, 248, 358]\n"
     ]
    }
   ],
   "source": [
    "#2\n",
    "def count_greater(list_of_numbers, greater_than):\n",
    "    \n",
    "    list_num = []\n",
    "    full_list = []\n",
    "    \n",
    "    for num in list_of_numbers:\n",
    "        if num > greater_than:\n",
    "            list_num.append(num)\n",
    "        else:\n",
    "            continue\n",
    "            \n",
    "    full_list = list_num\n",
    "    Sum = sum(list_num)\n",
    "    full_list.append(Sum)\n",
    "    return full_list\n",
    "    \n",
    "    \n",
    "list_of_numbers = [1, 3, 5, 8, 110, 248]\n",
    "greater_than = 100\n",
    "print(count_greater(list_of_numbers, greater_than))"
   ]
  },
  {
   "cell_type": "code",
   "execution_count": 35,
   "id": "4b5b5dc9",
   "metadata": {},
   "outputs": [
    {
     "name": "stdout",
     "output_type": "stream",
     "text": [
      "First 7 Fibonacci numbers:\n",
      "[0, 1, 1, 2, 3, 5, 8, 13]\n",
      "Sum of numbers:\n",
      "33\n",
      "Return the nth element:\n",
      "[0, 1, 1, 2, 3, 5, 8, 13, 21, 34, 55, 89, 144, 233, 377, 610, 987, 1597, 2584, 4181, 6765, 10946, 17711, 28657, 46368, 75025, 121393]\n",
      "121393\n",
      "How many digits:\n",
      "6\n"
     ]
    }
   ],
   "source": [
    "#3\n",
    "\n",
    "def append_N_numbers(N):\n",
    "    \n",
    "    if N <= 0:\n",
    "        return [0]\n",
    "    \n",
    "    Fib = [0, 1] #a)\n",
    "    while len(Fib) <= N: \n",
    "        next_value = Fib[len(Fib) - 1] + Fib[len(Fib) - 2]\n",
    "        Fib.append(next_value)\n",
    "    return Fib\n",
    "\n",
    "\n",
    "def get_sum(Fib_numbers):\n",
    "\n",
    "    Sum = sum(Fib_numbers)\n",
    "    return Sum\n",
    "\n",
    "\n",
    "def get_Nth(N, Fib_numbers):\n",
    "\n",
    "    #first element is indexed with number 0 \n",
    "    if len(Fib_numbers) < N:\n",
    "        Fib_numbers = append_N_numbers(N-1)\n",
    "        Nth = Fib_numbers[N-1]\n",
    "        #print(Fib_numbers)\n",
    "        return Nth\n",
    "    else:\n",
    "        Nth = Fib_numbers[N-1]\n",
    "        return Nth\n",
    "        \n",
    "def how_many_digits(N):\n",
    "    \n",
    "    Digits = len(str(N))\n",
    "    return Digits\n",
    "\n",
    "print(\"First 7 Fibonacci numbers:\")\n",
    "Fib_numbers = append_N_numbers(7)\n",
    "print(Fib_numbers)\n",
    "\n",
    "print(\"Sum of numbers:\")\n",
    "Fib_sum = get_sum(Fib_numbers)\n",
    "print(Fib_sum)\n",
    "\n",
    "N = 27\n",
    "print(\"Return the nth element:\")\n",
    "Nth = get_Nth(N, Fib_numbers)\n",
    "print(Nth)\n",
    "\n",
    "print(\"How many digits:\")\n",
    "Digits = how_many_digits(Nth)\n",
    "print(Digits)"
   ]
  },
  {
   "cell_type": "code",
   "execution_count": null,
   "id": "c48c2d7c",
   "metadata": {},
   "outputs": [],
   "source": []
  }
 ],
 "metadata": {
  "kernelspec": {
   "display_name": "Python 3 (ipykernel)",
   "language": "python",
   "name": "python3"
  },
  "language_info": {
   "codemirror_mode": {
    "name": "ipython",
    "version": 3
   },
   "file_extension": ".py",
   "mimetype": "text/x-python",
   "name": "python",
   "nbconvert_exporter": "python",
   "pygments_lexer": "ipython3",
   "version": "3.9.13"
  }
 },
 "nbformat": 4,
 "nbformat_minor": 5
}
